{
 "cells": [
  {
   "cell_type": "markdown",
   "id": "bac5a950",
   "metadata": {},
   "source": [
    "## Orientações:\n",
    "\n",
    "1. Crie as pastas executando o código em \"Kernel\", na aba superior dessa tela em seguida clique em \"Restart & Run All\".\n",
    "\n",
    "2. Coloque as bases nas pastas de acordo com a origem.\n",
    "\n",
    "3. Clique em \"Kernel\" na aba superior dessa tela, em seguida clique em \"Restart & Run All\".\n",
    "\n",
    "4. Após alguns segundos as bases estaram salvas e tratadas numa pasta chamada \"Saída\", no mesmo local desse arquivo.\n",
    "\n",
    "5. Aparecerá uma mensagem em pop-up se tudo tiver ocorrido bem.\n",
    "\n",
    "#### Obs.: Não altere nada no código, somente se tiver certeza do que estiver fazendo."
   ]
  },
  {
   "cell_type": "markdown",
   "id": "8976a1df",
   "metadata": {},
   "source": [
    "## Bibliotecas necessárias:"
   ]
  },
  {
   "cell_type": "code",
   "execution_count": 1,
   "id": "96875c3b",
   "metadata": {},
   "outputs": [],
   "source": [
    "#!pip install pandas\n",
    "#!pip install os"
   ]
  },
  {
   "cell_type": "markdown",
   "id": "ee35d84d",
   "metadata": {},
   "source": [
    "## Funções:"
   ]
  },
  {
   "cell_type": "code",
   "execution_count": 2,
   "id": "86589aa9",
   "metadata": {},
   "outputs": [],
   "source": [
    "from IPython.display import display, Javascript\n",
    "import pandas as pd\n",
    "import os\n",
    "\n",
    "def popupPositivo():\n",
    "    display (Javascript(\"\"\"\n",
    "    require(\n",
    "        [\"base/js/dialog\"], \n",
    "        function(dialog) {\n",
    "            dialog.modal({\n",
    "                title: 'Automatização das Bases by JV Pinheiro',\n",
    "                body: 'Alterações feitas e arquivos .CSV salvos com sucesso.',\n",
    "                buttons: {\n",
    "                    'Clique aqui!': {}\n",
    "                }\n",
    "            });\n",
    "        }\n",
    "    );\n",
    "    \"\"\"))\n",
    "    \n",
    "def popupNegativo():\n",
    "    display (Javascript(\"\"\"\n",
    "    require(\n",
    "        [\"base/js/dialog\"], \n",
    "        function(dialog) {\n",
    "            dialog.modal({\n",
    "                title: 'Automatização das Bases by JV Pinheiro',\n",
    "                body: 'As pastas estão vazia ou ocorreu algum erro!',\n",
    "                buttons: {\n",
    "                    'Sair': {}\n",
    "                }\n",
    "            });\n",
    "        }\n",
    "    );\n",
    "    \"\"\"))\n",
    "\n",
    "def tratamentoNina (df):\n",
    "    # Formatação da data\n",
    "    df['Data'] = pd.to_datetime(df['Data'])\n",
    "    df['Data'] = df['Data'].dt.strftime('%d/%m/%Y')\n",
    "\n",
    "    # Remoção de um único (DDD +) telefone\n",
    "    df['Telefone'] = df['Telefone'].astype(str).str[-11:]\n",
    "    \n",
    "    # Remoção de espaços em branco no Telefone e Telefones sem DDD\n",
    "    df.dropna(subset = ['Telefone'])\n",
    "    df['Telefone'] = df['Telefone'].str.strip()\n",
    "    df = df[(df['Telefone'].str.len() >= 10) & (df['Telefone'] != '55') & (df['Telefone'] != '99999999999')]\n",
    "\n",
    "    # Remoção de duplicatas com base no telefone\n",
    "    df = df.drop_duplicates(subset='Telefone')\n",
    "\n",
    "    return df\n",
    "\n",
    "\n",
    "def tratamentoRDC (df):\n",
    "    # Converter a coluna de datas para um objeto de data e hora\n",
    "    df['DATA_INADIMPLENCIA'] = pd.to_datetime(df['DATA_INADIMPLENCIA'])\n",
    "\n",
    "    # Formatar a coluna de datas para o formato dd/mm/aaaa\n",
    "    df['DATA_INADIMPLENCIA'] = df['DATA_INADIMPLENCIA'].dt.strftime('%d/%m/%Y')\n",
    "\n",
    "    # Converter a coluna 'Telefone' para uma string\n",
    "    df['TELEFONE'] = df['TELEFONE'].astype(str)\n",
    "\n",
    "    # Pegar os últimos 11 caracteres de cada linha na coluna 'Telefone'\n",
    "    df['TELEFONE'] = df['TELEFONE'].str[-11:]\n",
    "\n",
    "    # Remover duplicatas com base na coluna 'Telefone'\n",
    "    df = df.drop_duplicates(subset='TELEFONE')\n",
    "\n",
    "    # Filtrar as linhas com base no comprimento do número de telefone\n",
    "    df = df[(df['TELEFONE'] != '') & (df['TELEFONE'].str.len() >= 11)]\n",
    "    \n",
    "    return df\n",
    "\n",
    "def tratamentoEmail (df):\n",
    "    # Formatação da data\n",
    "    df['Data'] = pd.to_datetime(df['Data'])\n",
    "    df['Data'] = df['Data'].dt.strftime('%d/%m/%Y')\n",
    "\n",
    "    # Tratamento do telefone\n",
    "    df['Celular'] = df['Celular'].astype(str)\n",
    "    df['Celular'] = df['Celular'].str[-11:]\n",
    "\n",
    "    # Remoção de duplicatas com base na coluna 'Telefone'\n",
    "    df = df.drop_duplicates(subset='Celular')\n",
    "\n",
    "    # Filtro nas linhas com base no comprimento do número de telefone\n",
    "    df = df[(df['Celular'] != '') & (df['Celular'].str.len() >= 11)]\n",
    "    \n",
    "    return df\n",
    "\n",
    "def tratamentoConfirma (df):\n",
    "    # Formatação da data\n",
    "    df['Date (Data_EXECUCAO)'] = pd.to_datetime(df['Date (Data_EXECUCAO)'])\n",
    "    df['Date (Data_EXECUCAO)'] = df['Date (Data_EXECUCAO)'].dt.strftime('%d/%m/%Y')\n",
    "\n",
    "    # Tratamento do telefone\n",
    "    df['TEL_CELULAR'] = df['TEL_CELULAR'].astype(str)\n",
    "    df['TEL_CELULAR'] = df['TEL_CELULAR'].str[-11:]\n",
    "\n",
    "    # Remoção de duplicatas com base na coluna 'Telefone'\n",
    "    df = df.drop_duplicates(subset='TEL_CELULAR')\n",
    "\n",
    "    # Filtro nas linhas com base no comprimento do número de telefone\n",
    "    df = df[(df['TEL_CELULAR'] != '') & (df['TEL_CELULAR'].str.len() >= 11)]\n",
    "    \n",
    "    return df\n",
    "\n",
    "def tratamentoOdonto (df):\n",
    "    # Tratamento do telefone\n",
    "    df['TEL_CELULAR'] = df['TEL_CELULAR'].astype(str)\n",
    "    df['TEL_CELULAR'] = df['TEL_CELULAR'].str[-11:]\n",
    "\n",
    "    # Remoção de duplicatas com base na coluna 'Telefone'\n",
    "    df = df.drop_duplicates(subset='TEL_CELULAR')\n",
    "\n",
    "    # Filtro nas linhas com base no comprimento do número de telefone\n",
    "    df = df[(df['TEL_CELULAR'] != '') & (df['TEL_CELULAR'].str.len() >= 11)]\n",
    "    \n",
    "    return df\n",
    "\n",
    "def tratamentoLittleCar (df):\n",
    "    # Formatação da data\n",
    "    df['DT_ACESSO'] = pd.to_datetime(df['DT_ACESSO'])\n",
    "    df['DT_ACESSO'] = df['DT_ACESSO'].dt.strftime('%d/%m/%Y')\n",
    "\n",
    "    # Tratamento do telefone\n",
    "    df['CONTATO'] = df['CONTATO'].astype(str)\n",
    "    df['CONTATO'] = df['CONTATO'].str[-11:]\n",
    "\n",
    "    # Remoção de duplicatas com base na coluna 'Telefone'\n",
    "    df = df.drop_duplicates(subset='CONTATO')\n",
    "\n",
    "    # Filtro nas linhas com base no comprimento do número de telefone\n",
    "    df = df[(df['CONTATO'] != '') & (df['CONTATO'].str.len() >= 11)]\n",
    "    \n",
    "    return df"
   ]
  },
  {
   "cell_type": "markdown",
   "id": "c5103bfb",
   "metadata": {},
   "source": [
    "## Para Nina (Faltas):"
   ]
  },
  {
   "cell_type": "code",
   "execution_count": 3,
   "id": "f6592169",
   "metadata": {},
   "outputs": [
    {
     "name": "stdout",
     "output_type": "stream",
     "text": [
      "A pasta está vazia!\n"
     ]
    }
   ],
   "source": [
    "# Carrega o arquivo Excel em um DataFrame e verifica se existe mais de um arquivo\n",
    "caminho_pasta = 'Entrada/Nina/FALTAS'\n",
    "if not os.path.exists(caminho_pasta):\n",
    "    os.makedirs(caminho_pasta)\n",
    "arquivos_na_pasta = os.listdir(caminho_pasta)\n",
    "colunas_para_manter = ['Data', 'Cliente', 'Telefone', 'Status']\n",
    "\n",
    "lista = []    \n",
    "if len(arquivos_na_pasta) == 0:\n",
    "    print (\"A pasta está vazia!\")\n",
    "elif len(arquivos_na_pasta) == 1:\n",
    "    df = pd.read_excel(caminho_pasta + '/' + arquivos_na_pasta[0], usecols=colunas_para_manter, skiprows=1)\n",
    "elif len(arquivos_na_pasta) > 1:\n",
    "    for i in arquivos_na_pasta:\n",
    "        x = pd.read_excel(caminho_pasta + '/' + i, usecols=colunas_para_manter, skiprows=1)\n",
    "        lista.append(x)\n",
    "    df = pd.concat(lista)\n",
    "\n",
    "#Verifica se a pasta Saída existe e salva arquivo na pasta\n",
    "pasta_destino = 'Saída'\n",
    "if not os.path.exists(pasta_destino):\n",
    "    os.makedirs(pasta_destino)\n",
    "\n",
    "if len(arquivos_na_pasta) >= 1:\n",
    "    nome_arquivo_csv = os.path.join(pasta_destino, 'Absenteísmos-DIAMês.csv')\n",
    "    tratamentoNina(df).to_csv(nome_arquivo_csv, index=False) "
   ]
  },
  {
   "cell_type": "markdown",
   "id": "0f20926f",
   "metadata": {},
   "source": [
    "## Para Nina (CRIADOS):"
   ]
  },
  {
   "cell_type": "code",
   "execution_count": 4,
   "id": "0b51f0d6",
   "metadata": {},
   "outputs": [
    {
     "name": "stdout",
     "output_type": "stream",
     "text": [
      "A pasta está vazia!\n"
     ]
    }
   ],
   "source": [
    "# Carrega o arquivo Excel em um DataFrame e verifica se existe mais de um arquivo\n",
    "caminho_pasta = 'Entrada/Nina/CRIADOS'\n",
    "if not os.path.exists(caminho_pasta):\n",
    "    os.makedirs(caminho_pasta)\n",
    "arquivos_na_pasta = os.listdir(caminho_pasta)\n",
    "colunas_para_manter = ['Data', 'Cliente', 'Telefone', 'Status']\n",
    "\n",
    "lista = []    \n",
    "if len(arquivos_na_pasta) == 0:\n",
    "    print (\"A pasta está vazia!\")\n",
    "elif len(arquivos_na_pasta) == 1:\n",
    "    df = pd.read_excel(caminho_pasta + '/' + arquivos_na_pasta[0], usecols=colunas_para_manter, skiprows=1)\n",
    "elif len(arquivos_na_pasta) > 1:\n",
    "    for i in arquivos_na_pasta:\n",
    "        x = pd.read_excel(caminho_pasta + '/' + i, usecols=colunas_para_manter, skiprows=1)\n",
    "        lista.append(x)\n",
    "    df = pd.concat(lista)\n",
    "\n",
    "#Verifica se a pasta Saída existe e salva arquivo na pasta\n",
    "pasta_destino = 'Saída'\n",
    "if not os.path.exists(pasta_destino):\n",
    "    os.makedirs(pasta_destino)\n",
    "\n",
    "if len(arquivos_na_pasta) >= 1:   \n",
    "    nome_arquivo_csv = os.path.join(pasta_destino, 'PendentesNina_DIA.MÊS.csv')\n",
    "    tratamentoNina(df).to_csv(nome_arquivo_csv, index=False) "
   ]
  },
  {
   "cell_type": "markdown",
   "id": "61251a7a",
   "metadata": {},
   "source": [
    "## Para RDC:"
   ]
  },
  {
   "cell_type": "code",
   "execution_count": 5,
   "id": "ff62d2df",
   "metadata": {},
   "outputs": [
    {
     "name": "stdout",
     "output_type": "stream",
     "text": [
      "A pasta está vazia!\n"
     ]
    }
   ],
   "source": [
    "# Carrega o arquivo Excel em um DataFrame e verifica se existe mais de um arquivo\n",
    "caminho_pasta = 'Entrada/RDC'\n",
    "if not os.path.exists(caminho_pasta):\n",
    "    os.makedirs(caminho_pasta)\n",
    "arquivos_na_pasta = os.listdir(caminho_pasta)\n",
    "colunas_para_manter = ['DATA_INADIMPLENCIA', 'NM_TITULAR', 'CD_PESSOA_FISICA (right)', 'NR_CPF', 'TELEFONE', 'FORMA_PAGAMENTO', 'QTD_FATURAS_PENDENTES (right)', 'Inadimplência em dias', 'Range Inadimplência']\n",
    "\n",
    "lista = []    \n",
    "if len(arquivos_na_pasta) == 0:\n",
    "    print (\"A pasta está vazia!\")\n",
    "elif len(arquivos_na_pasta) == 1:\n",
    "    df = pd.read_excel(caminho_pasta + '/' + arquivos_na_pasta[0], usecols=colunas_para_manter)\n",
    "elif len(arquivos_na_pasta) > 1:\n",
    "    for i in arquivos_na_pasta:\n",
    "        x = pd.read_excel(caminho_pasta + '/' + i, usecols=colunas_para_manter)\n",
    "        lista.append(x)\n",
    "    df = pd.concat(lista)\n",
    "\n",
    "#Verifica se a pasta Saída existe e salva arquivo na pasta\n",
    "pasta_destino = 'Saída'\n",
    "if not os.path.exists(pasta_destino):\n",
    "    os.makedirs(pasta_destino)\n",
    "\n",
    "if len(arquivos_na_pasta) >= 1:\n",
    "    nome_arquivo_csv = os.path.join(pasta_destino, 'Base RDC (Inadimplentes) - dia.mês.csv')\n",
    "    tratamentoRDC(df).to_csv(nome_arquivo_csv, index=False) "
   ]
  },
  {
   "cell_type": "markdown",
   "id": "9227ce21",
   "metadata": {},
   "source": [
    "## Para E-mail (PEP 2 dias):"
   ]
  },
  {
   "cell_type": "code",
   "execution_count": 6,
   "id": "a232a89c",
   "metadata": {
    "scrolled": false
   },
   "outputs": [
    {
     "name": "stdout",
     "output_type": "stream",
     "text": [
      "A pasta está vazia!\n"
     ]
    }
   ],
   "source": [
    "# Carrega o arquivo Excel em um DataFrame e verifica se existe mais de um arquivo\n",
    "caminho_pasta = 'Entrada/E-mail/PEP 2 Dias'\n",
    "if not os.path.exists(caminho_pasta):\n",
    "    os.makedirs(caminho_pasta)\n",
    "arquivos_na_pasta = os.listdir(caminho_pasta)\n",
    "colunas_para_manter = ['Paciente', 'NR_CPF', 'Data', 'Estabelecimento', 'Celular', 'DS_OBSERVACAO']\n",
    "\n",
    "lista = []    \n",
    "if len(arquivos_na_pasta) == 0:\n",
    "    print (\"A pasta está vazia!\")\n",
    "elif len(arquivos_na_pasta) == 1:\n",
    "    df = pd.read_excel(caminho_pasta + '/' + arquivos_na_pasta[0], usecols=colunas_para_manter, skiprows=4)\n",
    "elif len(arquivos_na_pasta) > 1:\n",
    "    for i in arquivos_na_pasta:\n",
    "        x = pd.read_excel(caminho_pasta + '/' + i, usecols=colunas_para_manter, skiprows=4)\n",
    "        lista.append(x)\n",
    "    df = pd.concat(lista)\n",
    "\n",
    "#Verifica se a pasta Saída existe e salva arquivo na pasta\n",
    "pasta_destino = 'Saída'\n",
    "if not os.path.exists(pasta_destino):\n",
    "    os.makedirs(pasta_destino)\n",
    "\n",
    "if len(arquivos_na_pasta) >= 1:\n",
    "    nome_arquivo_csv = os.path.join(pasta_destino, 'PEP 2D DiaMês.csv')\n",
    "    tratamentoEmail(df).to_csv(nome_arquivo_csv, index=False) "
   ]
  },
  {
   "cell_type": "markdown",
   "id": "f66319ff",
   "metadata": {},
   "source": [
    "## Para E-mail (PEP 7 dias):"
   ]
  },
  {
   "cell_type": "code",
   "execution_count": 7,
   "id": "20f518af",
   "metadata": {},
   "outputs": [
    {
     "name": "stdout",
     "output_type": "stream",
     "text": [
      "A pasta está vazia!\n"
     ]
    }
   ],
   "source": [
    "# Carrega o arquivo Excel em um DataFrame e verifica se existe mais de um arquivo\n",
    "caminho_pasta = 'Entrada/E-mail/PEP 7 Dias'\n",
    "if not os.path.exists(caminho_pasta):\n",
    "    os.makedirs(caminho_pasta)\n",
    "arquivos_na_pasta = os.listdir(caminho_pasta)\n",
    "colunas_para_manter = ['Paciente', 'NR_CPF', 'Data', 'Estabelecimento', 'Celular', 'DS_OBSERVACAO']\n",
    "\n",
    "lista = []    \n",
    "if len(arquivos_na_pasta) == 0:\n",
    "    print (\"A pasta está vazia!\")\n",
    "elif len(arquivos_na_pasta) == 1:\n",
    "    df = pd.read_excel(caminho_pasta + '/' + arquivos_na_pasta[0], usecols=colunas_para_manter, skiprows=4)\n",
    "elif len(arquivos_na_pasta) > 1:\n",
    "    for i in arquivos_na_pasta:\n",
    "        x = pd.read_excel(caminho_pasta + '/' + i, usecols=colunas_para_manter, skiprows=4)\n",
    "        lista.append(x)\n",
    "    df = pd.concat(lista)\n",
    "\n",
    "#Verifica se a pasta Saída existe e salva arquivo na pasta\n",
    "pasta_destino = 'Saída'\n",
    "if not os.path.exists(pasta_destino):\n",
    "    os.makedirs(pasta_destino)\n",
    "\n",
    "if len(arquivos_na_pasta) >= 1:\n",
    "    nome_arquivo_csv = os.path.join(pasta_destino, 'PEP 7D DiaMês.csv')\n",
    "    tratamentoEmail(df).to_csv(nome_arquivo_csv, index=False) "
   ]
  },
  {
   "cell_type": "markdown",
   "id": "00c6104c",
   "metadata": {},
   "source": [
    "## Para E-mail (PEP 15 dias):"
   ]
  },
  {
   "cell_type": "code",
   "execution_count": 8,
   "id": "5ee8118c",
   "metadata": {},
   "outputs": [
    {
     "name": "stdout",
     "output_type": "stream",
     "text": [
      "A pasta está vazia!\n"
     ]
    }
   ],
   "source": [
    "# Carrega o arquivo Excel em um DataFrame e verifica se existe mais de um arquivo\n",
    "caminho_pasta = 'Entrada/E-mail/PEP 15 Dias'\n",
    "if not os.path.exists(caminho_pasta):\n",
    "    os.makedirs(caminho_pasta)\n",
    "arquivos_na_pasta = os.listdir(caminho_pasta)\n",
    "colunas_para_manter = ['Paciente', 'NR_CPF', 'Data', 'Estabelecimento', 'Celular', 'DS_OBSERVACAO']\n",
    "\n",
    "lista = []    \n",
    "if len(arquivos_na_pasta) == 0:\n",
    "    print (\"A pasta está vazia!\")\n",
    "elif len(arquivos_na_pasta) == 1:\n",
    "    df = pd.read_excel(caminho_pasta + '/' + arquivos_na_pasta[0], usecols=colunas_para_manter, skiprows=4)\n",
    "elif len(arquivos_na_pasta) > 1:\n",
    "    for i in arquivos_na_pasta:\n",
    "        x = pd.read_excel(caminho_pasta + '/' + i, usecols=colunas_para_manter, skiprows=4)\n",
    "        lista.append(x)\n",
    "    df = pd.concat(lista)\n",
    "\n",
    "#Verifica se a pasta Saída existe e salva arquivo na pasta\n",
    "pasta_destino = 'Saída'\n",
    "if not os.path.exists(pasta_destino):\n",
    "    os.makedirs(pasta_destino)\n",
    "\n",
    "if len(arquivos_na_pasta) >= 1:\n",
    "    nome_arquivo_csv = os.path.join(pasta_destino, 'PEP 15D DiaMês.csv')\n",
    "    tratamentoEmail(df).to_csv(nome_arquivo_csv, index=False) "
   ]
  },
  {
   "cell_type": "markdown",
   "id": "48c3dd1c",
   "metadata": {},
   "source": [
    "## Para E-mail (Confirmação):"
   ]
  },
  {
   "cell_type": "code",
   "execution_count": 9,
   "id": "774c25c7",
   "metadata": {},
   "outputs": [
    {
     "name": "stdout",
     "output_type": "stream",
     "text": [
      "A pasta está vazia!\n"
     ]
    }
   ],
   "source": [
    "# Carrega o arquivo Excel em um DataFrame e verifica se existe mais de um arquivo\n",
    "caminho_pasta = 'Entrada/E-mail/Confirmação'\n",
    "if not os.path.exists(caminho_pasta):\n",
    "    os.makedirs(caminho_pasta)\n",
    "arquivos_na_pasta = os.listdir(caminho_pasta)\n",
    "colunas_para_manter = ['NM_PESSOA_FISICA', 'NR_CPF', 'TEL_CELULAR','Date (Data_EXECUCAO)', 'NM_ESTABELECIMENTO']\n",
    "\n",
    "lista = []    \n",
    "if len(arquivos_na_pasta) == 0:\n",
    "    print (\"A pasta está vazia!\")\n",
    "elif len(arquivos_na_pasta) == 1:\n",
    "    df = pd.read_excel(caminho_pasta + '/' + arquivos_na_pasta[0], usecols=colunas_para_manter, skiprows=2)\n",
    "elif len(arquivos_na_pasta) > 1:\n",
    "    for i in arquivos_na_pasta:\n",
    "        x = pd.read_excel(caminho_pasta + '/' + i, usecols=colunas_para_manter, skiprows=2)\n",
    "        lista.append(x)\n",
    "    df = pd.concat(lista)\n",
    "\n",
    "#Verifica se a pasta Saída existe e salva arquivo na pasta\n",
    "pasta_destino = 'Saída'\n",
    "if not os.path.exists(pasta_destino):\n",
    "    os.makedirs(pasta_destino)\n",
    "\n",
    "if len(arquivos_na_pasta) >= 1:\n",
    "    nome_arquivo_csv = os.path.join(pasta_destino, 'REMARCACAO_DIA.MÊS.csv')\n",
    "    tratamentoConfirma(df).to_csv(nome_arquivo_csv, index=False)"
   ]
  },
  {
   "cell_type": "markdown",
   "id": "21a96773",
   "metadata": {},
   "source": [
    "## Para Odonto:"
   ]
  },
  {
   "cell_type": "code",
   "execution_count": 10,
   "id": "4d9a5612",
   "metadata": {
    "scrolled": false
   },
   "outputs": [
    {
     "name": "stdout",
     "output_type": "stream",
     "text": [
      "A pasta está vazia!\n"
     ]
    }
   ],
   "source": [
    "# Carrega o arquivo Excel em um DataFrame e verifica se existe mais de um arquivo\n",
    "caminho_pasta = 'Entrada/Odonto'\n",
    "if not os.path.exists(caminho_pasta):\n",
    "    os.makedirs(caminho_pasta)\n",
    "arquivos_na_pasta = os.listdir(caminho_pasta)\n",
    "colunas_para_manter = ['NM_ESTABELECIMENTO', 'NR_CPF', 'NM_PESSOA_FISICA', 'TEL_CELULAR']\n",
    "\n",
    "lista = []    \n",
    "if len(arquivos_na_pasta) == 0:\n",
    "    print (\"A pasta está vazia!\")\n",
    "elif len(arquivos_na_pasta) == 1:\n",
    "    df = pd.read_excel(caminho_pasta + '/' + arquivos_na_pasta[0], usecols=colunas_para_manter)        \n",
    "elif len(arquivos_na_pasta) > 1:\n",
    "    for i in arquivos_na_pasta:\n",
    "        x = pd.read_excel(caminho_pasta + '/' + i, usecols=colunas_para_manter)\n",
    "        lista.append(x)\n",
    "    df = pd.concat(lista)\n",
    "\n",
    "#Verifica se a pasta Saída existe e salva arquivo na pasta\n",
    "pasta_destino = 'Saída'\n",
    "if not os.path.exists(pasta_destino):\n",
    "    os.makedirs(pasta_destino)\n",
    "\n",
    "if len(arquivos_na_pasta) >= 1:\n",
    "    nome_arquivo_csv = os.path.join(pasta_destino, 'Odonto dia.mês.csv')\n",
    "    tratamentoOdonto(df).to_csv(nome_arquivo_csv, index=False) "
   ]
  },
  {
   "cell_type": "markdown",
   "id": "eda79bd1",
   "metadata": {},
   "source": [
    "## Para Carrinho:"
   ]
  },
  {
   "cell_type": "code",
   "execution_count": 11,
   "id": "2a1d4a67",
   "metadata": {},
   "outputs": [
    {
     "name": "stdout",
     "output_type": "stream",
     "text": [
      "A pasta está vazia!\n"
     ]
    }
   ],
   "source": [
    "# Carrega o arquivo Excel em um DataFrame e verifica se existe mais de um arquivo\n",
    "caminho_pasta = 'Entrada/Carrinho'\n",
    "if not os.path.exists(caminho_pasta):\n",
    "    os.makedirs(caminho_pasta)\n",
    "arquivos_na_pasta = os.listdir(caminho_pasta)\n",
    "colunas_para_manter = ['DT_ACESSO', 'UNIDADE', 'CPF', 'NOME', 'STATUS', 'CONTATO', 'ESPECIALIDADE']\n",
    "\n",
    "lista = []    \n",
    "if len(arquivos_na_pasta) == 0:\n",
    "    print (\"A pasta está vazia!\")\n",
    "elif len(arquivos_na_pasta) == 1:\n",
    "    df = pd.read_excel(caminho_pasta + '/' + arquivos_na_pasta[0], usecols=colunas_para_manter)\n",
    "elif len(arquivos_na_pasta) > 1:\n",
    "    for i in arquivos_na_pasta:\n",
    "        x = pd.read_excel(caminho_pasta + '/' + i, usecols=colunas_para_manter)\n",
    "        lista.append(x)\n",
    "    df = pd.concat(lista)\n",
    "\n",
    "#Verifica se a pasta Saída existe e salva arquivo na pasta\n",
    "pasta_destino = 'Saída'\n",
    "if not os.path.exists(pasta_destino):\n",
    "    os.makedirs(pasta_destino)\n",
    "\n",
    "if len(arquivos_na_pasta) >= 1:\n",
    "    nome_arquivo_csv = os.path.join(pasta_destino, 'Carrinho Abandonado DiaMês.csv')\n",
    "    tratamentoLittleCar(df).to_csv(nome_arquivo_csv, index=False)"
   ]
  },
  {
   "cell_type": "markdown",
   "id": "8242de8a",
   "metadata": {},
   "source": [
    "## Para Checkup 365D:"
   ]
  },
  {
   "cell_type": "code",
   "execution_count": 12,
   "id": "7d469a99",
   "metadata": {},
   "outputs": [
    {
     "name": "stdout",
     "output_type": "stream",
     "text": [
      "A pasta está vazia!\n"
     ]
    }
   ],
   "source": [
    "# Carrega o arquivo Excel em um DataFrame e verifica se existe mais de um arquivo\n",
    "caminho_pasta = 'Entrada/365D'\n",
    "if not os.path.exists(caminho_pasta):\n",
    "    os.makedirs(caminho_pasta)\n",
    "arquivos_na_pasta = os.listdir(caminho_pasta)\n",
    "colunas_para_manter = ['Date (Data_EXECUCAO)', 'TEL_CELULAR', 'NM_PESSOA_FISICA', 'DS_PROCEDIMENTO', 'NR_CPF']\n",
    "\n",
    "lista = []    \n",
    "if len(arquivos_na_pasta) == 0:\n",
    "    print (\"A pasta está vazia!\")\n",
    "elif len(arquivos_na_pasta) == 1:\n",
    "    df = pd.read_excel(caminho_pasta + '/' + arquivos_na_pasta[0], usecols=colunas_para_manter)\n",
    "elif len(arquivos_na_pasta) > 1:\n",
    "    for i in arquivos_na_pasta:\n",
    "        x = pd.read_excel(caminho_pasta + '/' + i, usecols=colunas_para_manter)\n",
    "        lista.append(x)\n",
    "    df = pd.concat(lista)\n",
    "\n",
    "#Verifica se a pasta Saída existe e salva arquivo na pasta\n",
    "pasta_destino = 'Saída'\n",
    "if not os.path.exists(pasta_destino):\n",
    "    os.makedirs(pasta_destino)\n",
    "\n",
    "if len(arquivos_na_pasta) >= 1:\n",
    "    nome_arquivo_csv = os.path.join(pasta_destino, 'Checkup dd.mm.aaaa.csv')\n",
    "    tratamentoConfirma(df).to_csv(nome_arquivo_csv, index=False) "
   ]
  },
  {
   "cell_type": "markdown",
   "id": "bb75c916",
   "metadata": {},
   "source": [
    "## Para Particulares:"
   ]
  },
  {
   "cell_type": "code",
   "execution_count": 13,
   "id": "4af901d3",
   "metadata": {},
   "outputs": [
    {
     "name": "stdout",
     "output_type": "stream",
     "text": [
      "A pasta está vazia!\n"
     ]
    }
   ],
   "source": [
    "# Carrega o arquivo Excel em um DataFrame e verifica se existe mais de um arquivo\n",
    "caminho_pasta = 'Entrada/Particulares'\n",
    "if not os.path.exists(caminho_pasta):\n",
    "    os.makedirs(caminho_pasta)\n",
    "arquivos_na_pasta = os.listdir(caminho_pasta)\n",
    "colunas_para_manter = ['data', 'codigo_paciente', 'cpf_paciente', 'nome_paciente', 'tipo_agenda', 'descricao_especialidade_agenda', 'nome_estabelecimento', 'telefone_paciente']\n",
    "\n",
    "lista = []    \n",
    "if len(arquivos_na_pasta) == 0:\n",
    "    print (\"A pasta está vazia!\")\n",
    "elif len(arquivos_na_pasta) == 1:\n",
    "    df = pd.read_excel(caminho_pasta + '/' + arquivos_na_pasta[0], usecols=colunas_para_manter, skiprows=4)\n",
    "elif len(arquivos_na_pasta) > 1:\n",
    "    for i in arquivos_na_pasta:\n",
    "        x = pd.read_excel(caminho_pasta + '/' + i, usecols=colunas_para_manter, skiprows=4)\n",
    "        lista.append(x)\n",
    "    df = pd.concat(lista)\n",
    "\n",
    "#Verifica se a pasta Saída existe e salva arquivo na pasta\n",
    "pasta_destino = 'Saída'\n",
    "if not os.path.exists(pasta_destino):\n",
    "    os.makedirs(pasta_destino)\n",
    "\n",
    "if len(arquivos_na_pasta) >= 1:\n",
    "    nome_arquivo_csv = os.path.join(pasta_destino, 'Particulares ddmmm.csv')\n",
    "    tratamentoEmail(df).to_csv(nome_arquivo_csv, index=False)"
   ]
  },
  {
   "cell_type": "markdown",
   "id": "b57103f3",
   "metadata": {},
   "source": [
    "## Aviso pop-up:"
   ]
  },
  {
   "cell_type": "code",
   "execution_count": 14,
   "id": "8a87acc2",
   "metadata": {},
   "outputs": [
    {
     "data": {
      "application/javascript": [
       "\n",
       "    require(\n",
       "        [\"base/js/dialog\"], \n",
       "        function(dialog) {\n",
       "            dialog.modal({\n",
       "                title: 'Automatização das Bases by JV Pinheiro',\n",
       "                body: 'As pastas estão vazia ou ocorreu algum erro!',\n",
       "                buttons: {\n",
       "                    'Sair': {}\n",
       "                }\n",
       "            });\n",
       "        }\n",
       "    );\n",
       "    "
      ],
      "text/plain": [
       "<IPython.core.display.Javascript object>"
      ]
     },
     "metadata": {},
     "output_type": "display_data"
    }
   ],
   "source": [
    "#Condicional do aviso na Tela\n",
    "if os.path.exists('Saída/Particulares ddmmm.csv') or os.path.exists('Saída/Checkup dd.mm.aaaa.csv') or os.path.exists('Saída/Carrinho Abandonado DiaMês.csv') or os.path.exists('Saída/Odonto dia.mês.csv') or os.path.exists('Saída/REMARCACAO_DIA.MÊS.csv')or os.path.exists('Saída/PEP 15D DiaMês.csv') or os.path.exists('Saída/PEP 7D DiaMês.csv') or os.path.exists('Saída/PEP 2D DiaMês.csv') or os.path.exists('Saída/PendentesNina_DIA.MÊS.csv') or os.path.exists('Saída/Absenteísmos-DIAMês.csv') or os.path.exists('Saída/Carrinho Abandonado DiaMês.csv') or os.path.exists('Saída/Odonto dia.mês.csv') or os.path.exists('Saída/REMARCACAO_DIA.MÊS.csv')or os.path.exists('Saída/PEP 15D DiaMês.csv') or os.path.exists('Saída/PEP 7D DiaMês.csv') or os.path.exists('Saída/PEP 2D DiaMês.csv') or os.path.exists('Saída/PendentesNina_DIA.MÊS.csv') or os.path.exists('Saída/Absenteísmos-DIAMês.csv') or os.path.exists('Saída/Base RDC (Inadimplentes) - dia.mês.csv'):\n",
    "    popupPositivo()\n",
    "    print(\"Alterações feitas e arquivos .CSV salvos com sucesso.\")\n",
    "else:\n",
    "    popupNegativo()"
   ]
  }
 ],
 "metadata": {
  "kernelspec": {
   "display_name": "Python 3 (ipykernel)",
   "language": "python",
   "name": "python3"
  },
  "language_info": {
   "codemirror_mode": {
    "name": "ipython",
    "version": 3
   },
   "file_extension": ".py",
   "mimetype": "text/x-python",
   "name": "python",
   "nbconvert_exporter": "python",
   "pygments_lexer": "ipython3",
   "version": "3.11.4"
  }
 },
 "nbformat": 4,
 "nbformat_minor": 5
}
