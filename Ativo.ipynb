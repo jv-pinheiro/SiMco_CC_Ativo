{
 "cells": [
  {
   "cell_type": "markdown",
   "id": "bac5a950",
   "metadata": {},
   "source": [
    "## Orientações:\n",
    "\n",
    "* \n",
    "* "
   ]
  },
  {
   "cell_type": "markdown",
   "id": "ee35d84d",
   "metadata": {},
   "source": [
    "## Funções:"
   ]
  },
  {
   "cell_type": "code",
   "execution_count": 1,
   "id": "86589aa9",
   "metadata": {},
   "outputs": [],
   "source": [
    "from IPython.display import display, Javascript\n",
    "import pandas as pd\n",
    "import os\n",
    "\n",
    "def popupPositivo():\n",
    "    display (Javascript(\"\"\"\n",
    "    require(\n",
    "        [\"base/js/dialog\"], \n",
    "        function(dialog) {\n",
    "            dialog.modal({\n",
    "                title: 'Automatização das Bases by JV Pinheiro',\n",
    "                body: 'Alterações feitas e arquivo CSV salvo com sucesso.',\n",
    "                buttons: {\n",
    "                    'Clique aqui!': {}\n",
    "                }\n",
    "            });\n",
    "        }\n",
    "    );\n",
    "    \"\"\"))\n",
    "    \n",
    "def popupNegativo():\n",
    "    display (Javascript(\"\"\"\n",
    "    require(\n",
    "        [\"base/js/dialog\"], \n",
    "        function(dialog) {\n",
    "            dialog.modal({\n",
    "                title: 'Automatização das Bases by JV Pinheiro',\n",
    "                body: 'A pasta está vazia ou ocorreu algum erro!',\n",
    "                buttons: {\n",
    "                    'Sair': {}\n",
    "                }\n",
    "            });\n",
    "        }\n",
    "    );\n",
    "    \"\"\"))\n",
    "\n",
    "def tratamentoNina (df):\n",
    "    # Formatação da data\n",
    "    df['Data'] = pd.to_datetime(df['Data'])\n",
    "    df['Data'] = df['Data'].dt.strftime('%d/%m/%Y')\n",
    "\n",
    "    # Remoção de um único (DDD +) telefone\n",
    "    df['Telefone'] = df['Telefone'].astype(str).str[-11:]\n",
    "    \n",
    "    # Remoção de espaços em branco no Telefone e Telefones sem DDD\n",
    "    df.dropna(subset = ['Telefone'])\n",
    "    df['Telefone'] = df['Telefone'].str.strip()\n",
    "    df = df[(df['Telefone'].str.len() >= 10) & (df['Telefone'] != '55') & (df['Telefone'] != '99999999999')]\n",
    "\n",
    "    # Remoção de duplicatas com base no telefone\n",
    "    df = df.drop_duplicates(subset='Telefone')\n",
    "\n",
    "    return df\n",
    "\n",
    "\n",
    "def tratamentoRDC (df):\n",
    "    # Converter a coluna de datas para um objeto de data e hora\n",
    "    df['DATA_INADIMPLENCIA'] = pd.to_datetime(df['DATA_INADIMPLENCIA'])\n",
    "\n",
    "    # Formatar a coluna de datas para o formato dd/mm/aaaa\n",
    "    df['DATA_INADIMPLENCIA'] = df['DATA_INADIMPLENCIA'].dt.strftime('%d/%m/%Y')\n",
    "\n",
    "    # Converter a coluna 'Telefone' para uma string\n",
    "    df['TELEFONE'] = df['TELEFONE'].astype(str)\n",
    "\n",
    "    # Pegar os últimos 11 caracteres de cada linha na coluna 'Telefone'\n",
    "    df['TELEFONE'] = df['TELEFONE'].str[-11:]\n",
    "\n",
    "    # Remover duplicatas com base na coluna 'Telefone'\n",
    "    df = df.drop_duplicates(subset='TELEFONE')\n",
    "\n",
    "    # Filtrar as linhas com base no comprimento do número de telefone\n",
    "    df = df[(df['TELEFONE'] != '') & (df['TELEFONE'].str.len() >= 11)]\n",
    "    \n",
    "    return df\n",
    "\n",
    "def tratamentoEmail (df):\n",
    "    # Formatação da data\n",
    "    df['Data'] = pd.to_datetime(df['Data'])\n",
    "    df['Data'] = df['Data'].dt.strftime('%d/%m/%Y')\n",
    "\n",
    "    # Tratamento do telefone\n",
    "    df['Celular'] = df['Celular'].astype(str)\n",
    "    df['Celular'] = df['Celular'].str[-11:]\n",
    "\n",
    "    # Remoção de duplicatas com base na coluna 'Telefone'\n",
    "    df = df.drop_duplicates(subset='Celular')\n",
    "\n",
    "    # Filtro nas linhas com base no comprimento do número de telefone\n",
    "    df = df[(df['Celular'] != '') & (df['Celular'].str.len() >= 11)]\n",
    "    \n",
    "    return df"
   ]
  },
  {
   "cell_type": "markdown",
   "id": "c5103bfb",
   "metadata": {},
   "source": [
    "## Para Nina (Faltas):"
   ]
  },
  {
   "cell_type": "code",
   "execution_count": 17,
   "id": "f6592169",
   "metadata": {},
   "outputs": [
    {
     "data": {
      "application/javascript": [
       "\n",
       "    require(\n",
       "        [\"base/js/dialog\"], \n",
       "        function(dialog) {\n",
       "            dialog.modal({\n",
       "                title: 'Automatização das Bases by JV Pinheiro',\n",
       "                body: 'Alterações feitas e arquivo CSV salvo com sucesso.',\n",
       "                buttons: {\n",
       "                    'Clique aqui!': {}\n",
       "                }\n",
       "            });\n",
       "        }\n",
       "    );\n",
       "    "
      ],
      "text/plain": [
       "<IPython.core.display.Javascript object>"
      ]
     },
     "metadata": {},
     "output_type": "display_data"
    },
    {
     "name": "stdout",
     "output_type": "stream",
     "text": [
      "Alterações feitas e arquivo CSV salvo com sucesso.\n"
     ]
    }
   ],
   "source": [
    "# Carrega o arquivo Excel em um DataFrame e verifica se existe mais de um arquivo\n",
    "caminho_pasta = 'Entrada/Nina/FALTAS'\n",
    "arquivos_na_pasta = os.listdir(caminho_pasta)\n",
    "colunas_para_manter = ['Data', 'Cliente', 'Telefone', 'Status']\n",
    "\n",
    "lista = []    \n",
    "if len(arquivos_na_pasta) == 0:\n",
    "    print (\"A pasta está vazia!\")\n",
    "elif len(arquivos_na_pasta) == 1:\n",
    "    df = pd.read_excel(arquivos_na_pasta[0], usecols=colunas_para_manter, skiprows=1)\n",
    "elif len(arquivos_na_pasta) > 1:\n",
    "    for i in arquivos_na_pasta:\n",
    "        x = pd.read_excel(caminho_pasta + '/' + i, usecols=colunas_para_manter, skiprows=1)\n",
    "        lista.append(x)\n",
    "    df = pd.concat(lista)\n",
    "\n",
    "#Verifica se a pasta Saída existe e salva arquivo na pasta\n",
    "pasta_destino = 'Saída'\n",
    "if not os.path.exists(pasta_destino):\n",
    "    os.makedirs(pasta_destino)\n",
    "\n",
    "if len(arquivos_na_pasta) >= 1:\n",
    "    nome_arquivo_csv = os.path.join(pasta_destino, 'Absenteísmos-DIAMês.csv')\n",
    "    tratamentoNina(df).to_csv(nome_arquivo_csv, index=False) \n",
    "\n",
    "\n",
    "#Condicional do aviso na Tela\n",
    "if os.path.exists('Saída/Absenteísmos-DIAMês.csv'):\n",
    "    popupPositivo()\n",
    "    print(\"Alterações feitas e arquivo CSV salvo com sucesso.\")\n",
    "else:\n",
    "    popupNegativo()"
   ]
  },
  {
   "cell_type": "markdown",
   "id": "0f20926f",
   "metadata": {},
   "source": [
    "## Para Nina (CRIADOS):"
   ]
  },
  {
   "cell_type": "code",
   "execution_count": 16,
   "id": "0b51f0d6",
   "metadata": {},
   "outputs": [
    {
     "name": "stdout",
     "output_type": "stream",
     "text": [
      "A pasta está vazia!\n"
     ]
    },
    {
     "data": {
      "application/javascript": [
       "\n",
       "    require(\n",
       "        [\"base/js/dialog\"], \n",
       "        function(dialog) {\n",
       "            dialog.modal({\n",
       "                title: 'Automatização das Bases by JV Pinheiro',\n",
       "                body: 'A pasta está vazia ou ocorreu algum erro!',\n",
       "                buttons: {\n",
       "                    'Sair': {}\n",
       "                }\n",
       "            });\n",
       "        }\n",
       "    );\n",
       "    "
      ],
      "text/plain": [
       "<IPython.core.display.Javascript object>"
      ]
     },
     "metadata": {},
     "output_type": "display_data"
    }
   ],
   "source": [
    "# Carrega o arquivo Excel em um DataFrame e verifica se existe mais de um arquivo\n",
    "caminho_pasta = 'Entrada/Nina/CRIADOS'\n",
    "arquivos_na_pasta = os.listdir(caminho_pasta)\n",
    "colunas_para_manter = ['Data', 'Cliente', 'Telefone', 'Status']\n",
    "\n",
    "lista = []    \n",
    "if len(arquivos_na_pasta) == 0:\n",
    "    print (\"A pasta está vazia!\")\n",
    "elif len(arquivos_na_pasta) == 1:\n",
    "    df = pd.read_excel(caminho_pasta + '/' + arquivos_na_pasta[0], usecols=colunas_para_manter, skiprows=1)\n",
    "elif len(arquivos_na_pasta) > 1:\n",
    "    for i in arquivos_na_pasta:\n",
    "        x = pd.read_excel(caminho_pasta + '/' + i, usecols=colunas_para_manter, skiprows=1)\n",
    "        lista.append(x)\n",
    "    df = pd.concat(lista)\n",
    "\n",
    "#Verifica se a pasta Saída existe e salva arquivo na pasta\n",
    "pasta_destino = 'Saída'\n",
    "if not os.path.exists(pasta_destino):\n",
    "    os.makedirs(pasta_destino)\n",
    "\n",
    "if len(arquivos_na_pasta) >= 1:   \n",
    "    nome_arquivo_csv = os.path.join(pasta_destino, 'PendentesNina_DIA.MÊS.csv')\n",
    "    tratamentoNina(df).to_csv(nome_arquivo_csv, index=False) \n",
    "\n",
    "\n",
    "#Condicional do aviso na Tela\n",
    "if os.path.exists('Saída/PendentesNina_DIA.MÊS.csv'):\n",
    "    popupPositivo()\n",
    "    print(\"Alterações feitas e arquivo CSV salvo com sucesso.\")\n",
    "else:\n",
    "    popupNegativo()"
   ]
  },
  {
   "cell_type": "markdown",
   "id": "61251a7a",
   "metadata": {},
   "source": [
    "## Para RDC:"
   ]
  },
  {
   "cell_type": "code",
   "execution_count": null,
   "id": "ff62d2df",
   "metadata": {},
   "outputs": [],
   "source": [
    "# Carregar o arquivo Excel em um DataFrame\n",
    "nome_arquivo_excel = 'Base RDC Inadimplentes 36 - 42 21082023.xlsx'\n",
    "if nome_arquivo_excel == '':\n",
    "    print(\"Arquivo não encontrado!\")\n",
    "else:\n",
    "    df = pd.read_excel(nome_arquivo_excel)\n",
    "\n",
    "# Salvar o DataFrame em um arquivo CSV\n",
    "nome_arquivo_csv = 'teste.csv'\n",
    "tratamentoRDC.to_csv(nome_arquivo_csv, index=False)\n",
    "\n",
    "print(\"Alterações feitas e arquivo CSV salvo com sucesso.\")"
   ]
  },
  {
   "cell_type": "markdown",
   "id": "9227ce21",
   "metadata": {},
   "source": [
    "## Para E-mail:"
   ]
  },
  {
   "cell_type": "code",
   "execution_count": 33,
   "id": "a232a89c",
   "metadata": {
    "scrolled": false
   },
   "outputs": [
    {
     "data": {
      "application/javascript": [
       "\n",
       "    require(\n",
       "        [\"base/js/dialog\"], \n",
       "        function(dialog) {\n",
       "            dialog.modal({\n",
       "                title: 'Automatização das Bases by JV Pinheiro',\n",
       "                body: 'Alterações feitas e arquivo CSV salvo com sucesso.',\n",
       "                buttons: {\n",
       "                    'Clique aqui!': {}\n",
       "                }\n",
       "            });\n",
       "        }\n",
       "    );\n",
       "    "
      ],
      "text/plain": [
       "<IPython.core.display.Javascript object>"
      ]
     },
     "metadata": {},
     "output_type": "display_data"
    },
    {
     "name": "stdout",
     "output_type": "stream",
     "text": [
      "Alterações feitas e arquivo CSV salvo com sucesso.\n"
     ]
    }
   ],
   "source": [
    "# Carrega o arquivo Excel em um DataFrame e verifica se existe mais de um arquivo\n",
    "caminho_pasta = 'Entrada/E-mail/PEP 2 Dias'\n",
    "arquivos_na_pasta = os.listdir(caminho_pasta)\n",
    "colunas_para_manter = ['Paciente', 'NR_CPF', 'Data', 'Estabelecimento', 'Celular', 'DS_OBSERVACAO']\n",
    "\n",
    "lista = []    \n",
    "if len(arquivos_na_pasta) == 0:\n",
    "    print (\"A pasta está vazia!\")\n",
    "elif len(arquivos_na_pasta) == 1:\n",
    "    df = pd.read_excel(caminho_pasta + '/' + arquivos_na_pasta[0], usecols=colunas_para_manter, skiprows=4)\n",
    "elif len(arquivos_na_pasta) > 1:\n",
    "    for i in arquivos_na_pasta:\n",
    "        x = pd.read_excel(caminho_pasta + '/' + i, usecols=colunas_para_manter, skiprows=4)\n",
    "        lista.append(x)\n",
    "    df = pd.concat(lista)\n",
    "\n",
    "#Verifica se a pasta Saída existe e salva arquivo na pasta\n",
    "pasta_destino = 'Saída'\n",
    "if not os.path.exists(pasta_destino):\n",
    "    os.makedirs(pasta_destino)\n",
    "\n",
    "if len(arquivos_na_pasta) >= 1:\n",
    "    nome_arquivo_csv = os.path.join(pasta_destino, 'PEP 2D DiaMês.csv')\n",
    "    tratamentoEmail(df).to_csv(nome_arquivo_csv, index=False) \n",
    "\n",
    "\n",
    "#Condicional do aviso na Tela\n",
    "if os.path.exists('Saída/PEP 2D DiaMês.csv'):\n",
    "    popupPositivo()\n",
    "    print(\"Alterações feitas e arquivo CSV salvo com sucesso.\")\n",
    "else:\n",
    "    popupNegativo()"
   ]
  },
  {
   "cell_type": "markdown",
   "id": "b57103f3",
   "metadata": {},
   "source": [
    "## Testes:"
   ]
  },
  {
   "cell_type": "code",
   "execution_count": null,
   "id": "8a87acc2",
   "metadata": {},
   "outputs": [],
   "source": [
    "#Testes"
   ]
  }
 ],
 "metadata": {
  "kernelspec": {
   "display_name": "Python 3 (ipykernel)",
   "language": "python",
   "name": "python3"
  },
  "language_info": {
   "codemirror_mode": {
    "name": "ipython",
    "version": 3
   },
   "file_extension": ".py",
   "mimetype": "text/x-python",
   "name": "python",
   "nbconvert_exporter": "python",
   "pygments_lexer": "ipython3",
   "version": "3.11.4"
  }
 },
 "nbformat": 4,
 "nbformat_minor": 5
}
